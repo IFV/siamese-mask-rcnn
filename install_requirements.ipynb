{
  "nbformat": 4,
  "nbformat_minor": 0,
  "metadata": {
    "kernelspec": {
      "display_name": "Python 3",
      "language": "python",
      "name": "python3"
    },
    "language_info": {
      "codemirror_mode": {
        "name": "ipython",
        "version": 3
      },
      "file_extension": ".py",
      "mimetype": "text/x-python",
      "name": "python",
      "nbconvert_exporter": "python",
      "pygments_lexer": "ipython3",
      "version": "3.6.2"
    },
    "varInspector": {
      "cols": {
        "lenName": 16,
        "lenType": 16,
        "lenVar": 40
      },
      "kernels_config": {
        "python": {
          "delete_cmd_postfix": "",
          "delete_cmd_prefix": "del ",
          "library": "var_list.py",
          "varRefreshCmd": "print(var_dic_list())"
        },
        "r": {
          "delete_cmd_postfix": ") ",
          "delete_cmd_prefix": "rm(",
          "library": "var_list.r",
          "varRefreshCmd": "cat(var_dic_list()) "
        }
      },
      "types_to_exclude": [
        "module",
        "function",
        "builtin_function_or_method",
        "instance",
        "_Feature"
      ],
      "window_display": false
    },
    "colab": {
      "name": "install_requirements.ipynb",
      "provenance": [],
      "collapsed_sections": [],
      "toc_visible": true
    }
  },
  "cells": [
    {
      "cell_type": "markdown",
      "metadata": {
        "id": "A7lcbxDD_0bm",
        "colab_type": "text"
      },
      "source": [
        "## Install Necessary Packages"
      ]
    },
    {
      "cell_type": "code",
      "metadata": {
        "id": "qefU7fAoK6iG",
        "colab_type": "code",
        "colab": {}
      },
      "source": [
        "! pip install numpy cython scikit_image keras==2.1.6 h5py imgaug opencv_python"
      ],
      "execution_count": 0,
      "outputs": []
    },
    {
      "cell_type": "markdown",
      "metadata": {
        "id": "uJN99zc6xyDi",
        "colab_type": "text"
      },
      "source": [
        "Need to uninstall current version of pycocotools on Google Colab to fix Python 3 compatibility errors"
      ]
    },
    {
      "cell_type": "code",
      "metadata": {
        "id": "tEEhaDZaSNS8",
        "colab_type": "code",
        "colab": {}
      },
      "source": [
        "!pip uninstall pycocotools"
      ],
      "execution_count": 0,
      "outputs": []
    },
    {
      "cell_type": "markdown",
      "metadata": {
        "id": "3KxNIK1Nx8bj",
        "colab_type": "text"
      },
      "source": [
        "Install updated version from official COCO repository"
      ]
    },
    {
      "cell_type": "code",
      "metadata": {
        "id": "a25RjZgaOpaq",
        "colab_type": "code",
        "colab": {}
      },
      "source": [
        "!pip install git+https://github.com/cocodataset/cocoapi.git#subdirectory=PythonAPI"
      ],
      "execution_count": 0,
      "outputs": []
    },
    {
      "cell_type": "markdown",
      "metadata": {
        "id": "NDoENSxY_n12",
        "colab_type": "text"
      },
      "source": [
        "## Compile MS COCO Dataset Python API"
      ]
    },
    {
      "cell_type": "code",
      "metadata": {
        "id": "tgCvvcSTK6ic",
        "colab_type": "code",
        "colab": {}
      },
      "source": [
        "! (cd /content/drive/My\\ Drive/Thesis/siamese-mask-rcnn/data/coco/PythonAPI && make)"
      ],
      "execution_count": 0,
      "outputs": []
    }
  ]
}